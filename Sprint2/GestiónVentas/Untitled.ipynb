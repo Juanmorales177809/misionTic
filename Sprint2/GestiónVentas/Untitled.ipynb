{
 "cells": [
  {
   "cell_type": "code",
   "execution_count": null,
   "id": "4978161e",
   "metadata": {},
   "outputs": [],
   "source": [
    "def factorial(f):\n",
    "    for i in range((f-1), 1, -1):\n",
    "        f = f*i\n",
    "    return f\n",
    "print(factorial(10))  \n",
    "    \n",
    "       "
   ]
  },
  {
   "cell_type": "code",
   "execution_count": null,
   "id": "4d0f2439",
   "metadata": {},
   "outputs": [],
   "source": [
    "f = -10\n",
    "if f < 0:\n",
    "    f = f*-1\n",
    "    f = factorial(f)\n",
    "for i in range((f-1), 1, -1):\n",
    "    f = f*i\n",
    "\n",
    "    \n",
    "\n",
    "            \n",
    "  \n"
   ]
  },
  {
   "cell_type": "code",
   "execution_count": null,
   "id": "1f5b3482",
   "metadata": {},
   "outputs": [],
   "source": []
  },
  {
   "cell_type": "code",
   "execution_count": null,
   "id": "5c7fe323",
   "metadata": {},
   "outputs": [],
   "source": []
  }
 ],
 "metadata": {
  "kernelspec": {
   "display_name": "Python 3",
   "language": "python",
   "name": "python3"
  },
  "language_info": {
   "codemirror_mode": {
    "name": "ipython",
    "version": 3
   },
   "file_extension": ".py",
   "mimetype": "text/x-python",
   "name": "python",
   "nbconvert_exporter": "python",
   "pygments_lexer": "ipython3",
   "version": "3.8.5"
  }
 },
 "nbformat": 4,
 "nbformat_minor": 5
}
